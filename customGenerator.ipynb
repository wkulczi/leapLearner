{
 "cells": [
  {
   "cell_type": "code",
   "execution_count": 1,
   "metadata": {},
   "outputs": [],
   "source": [
    "import numpy as np\n",
    "import keras\n",
    "import os\n",
    "from tensorflow.keras.utils import to_categorical\n",
    "from sklearn.model_selection import train_test_split\n",
    "import pickle"
   ]
  },
  {
   "cell_type": "code",
   "execution_count": 3,
   "metadata": {},
   "outputs": [
    {
     "name": "stdout",
     "output_type": "stream",
     "text": [
      "leapJoints  mpJoints  myjoints.png  readme.md\n"
     ]
    }
   ],
   "source": [
    "!ls ../train/joints/"
   ]
  },
  {
   "cell_type": "code",
   "execution_count": 4,
   "metadata": {},
   "outputs": [],
   "source": [
    "#leap numerical data directory\n",
    "data_dir = \"../train/joints/leapJoints\""
   ]
  },
  {
   "cell_type": "code",
   "execution_count": 5,
   "metadata": {},
   "outputs": [],
   "source": [
    "fileNames = [file for file in \n",
    "os.listdir(data_dir) if os.path.isfile(os.path.join(data_dir, file))]\n",
    "classes = list(sorted(set([x[0] for x in fileNames])))\n",
    "Ys = [classes.index(x[0]) for x in fileNames]"
   ]
  },
  {
   "cell_type": "code",
   "execution_count": 6,
   "metadata": {},
   "outputs": [],
   "source": [
    "def unpickle(filepath):\n",
    "    with open(filepath, \"rb\") as input_file:\n",
    "        e = pickle.load(input_file)\n",
    "    return e\n",
    "\n",
    "def train_val_test_split(dataX, dataY, train = 0.7, val = 0.2, test=0.1):\n",
    "    x_train, x_test, y_train, y_test = train_test_split(dataX, dataY, test_size=1 - train)\n",
    "\n",
    "    # test is now 10% of the initial data set\n",
    "    # validation is now 15% of the initial data set\n",
    "    x_val, x_test, y_val, y_test = train_test_split(x_test, y_test, test_size=test/(test + val)) \n",
    "\n",
    "    return x_train, x_val, x_test, y_train, y_val, y_test"
   ]
  },
  {
   "cell_type": "code",
   "execution_count": 7,
   "metadata": {},
   "outputs": [],
   "source": [
    "x_train, x_val, x_test, y_train, y_val, y_test = train_val_test_split(fileNames, Ys)"
   ]
  },
  {
   "cell_type": "code",
   "execution_count": 39,
   "metadata": {},
   "outputs": [],
   "source": [
    "# dict(zip(x_train, y_train))"
   ]
  },
  {
   "cell_type": "code",
   "execution_count": 22,
   "metadata": {},
   "outputs": [],
   "source": [
    "class JointDataGenerator(keras.utils.all_utils.Sequence):\n",
    "    def __init__(self, IDs, labels,data_directory, batch_size=4, dim=(21,21), n_classes=11, shuffle=True):\n",
    "        self.dim = dim\n",
    "        self.batch_size = batch_size\n",
    "        self.labels = labels\n",
    "        self.IDs = IDs\n",
    "        self.n_classes = n_classes\n",
    "        self.shuffle = shuffle\n",
    "        self.indexes = []\n",
    "        self.data_dir = data_directory\n",
    "        self.update_indexes()\n",
    "        \n",
    "    def update_indexes(self):\n",
    "        self.indexes = np.arange(len(self.IDs))\n",
    "        if self.shuffle == True:\n",
    "            np.random.shuffle(self.indexes)\n",
    "    \n",
    "    def __len__(self): \n",
    "        # will always omit last batch of data \n",
    "        # so the train dataset will always be lower than expected\n",
    "        return int(np.floor(len(self.IDs) / self.batch_size))\n",
    "    \n",
    "    def __getitem__(self,index):\n",
    "        indexes = self.indexes[index*self.batch_size:(index+1)*self.batch_size]\n",
    "        \n",
    "        list_IDs_temp = [self.IDs[k] for k in indexes]\n",
    "        \n",
    "        X,y = self.__data_generation(list_IDs_temp)\n",
    "        \n",
    "        return X,y\n",
    "\n",
    "    def __data_generation(self, list_IDs_temp):\n",
    "        X = np.empty((self.batch_size, *self.dim, 1))\n",
    "        y = np.empty((self.batch_size), dtype=int)\n",
    "        \n",
    "        \n",
    "        for i, ID in enumerate(list_IDs_temp):\n",
    "            data = unpickle(f\"{self.data_dir}/{ID}\")\n",
    "            do_the_thing(data)\n",
    "            y[i] = self.labels[ID]\n",
    "            \n",
    "        return X, to_categorical(y, num_classes = self.n_classes)"
   ]
  },
  {
   "cell_type": "code",
   "execution_count": 21,
   "metadata": {},
   "outputs": [],
   "source": [
    "train_generator = JointDataGenerator(x_train[:1], dict(zip(x_train, y_train)), data_dir)"
   ]
  },
  {
   "cell_type": "code",
   "execution_count": 23,
   "metadata": {},
   "outputs": [],
   "source": [
    "def do_the_thing(data):\n",
    "    print(data)"
   ]
  },
  {
   "cell_type": "code",
   "execution_count": 42,
   "metadata": {},
   "outputs": [],
   "source": [
    "def unit_vector(vector):\n",
    "    \"\"\" Returns the unit vector of the vector.  \"\"\"\n",
    "    return vector / np.linalg.norm(vector)\n",
    "\n",
    "def angle_between(v1, v2):\n",
    "    \"\"\" Returns the angle in radians between vectors 'v1' and 'v2'. \"\"\"\n",
    "    v1_u = unit_vector(v1)\n",
    "    v2_u = unit_vector(v2)\n",
    "    return np.arccos(np.clip(np.dot(v1_u, v2_u), -1.0, 1.0))"
   ]
  },
  {
   "cell_type": "code",
   "execution_count": 74,
   "metadata": {},
   "outputs": [],
   "source": [
    "data = np.zeros((max(x.shape), max(x.shape)))\n",
    "for i_ind, row_i in enumerate(x):\n",
    "    for j_ind, row_j in enumerate(x):\n",
    "        data[i_ind][j_ind]=angle_between(row_i, row_j)"
   ]
  },
  {
   "cell_type": "code",
   "execution_count": 112,
   "metadata": {},
   "outputs": [],
   "source": [
    "from sklearn.preprocessing import MinMaxScaler\n",
    "scaler = MinMaxScaler(feature_range=(0,1)) #trzeba chyba swój napisać, bo max = arccos(-1) a min = arccos(1)\n",
    "tmp = data.reshape(-1,1)\n",
    "scaler.fit(tmp)\n",
    "scaled = scaler.fit_transform(tmp).reshape(data.shape)"
   ]
  },
  {
   "cell_type": "code",
   "execution_count": 124,
   "metadata": {},
   "outputs": [
    {
     "data": {
      "image/png": "[encoded data removed]",
      "text/plain": [
       "<Figure size 720x720 with 2 Axes>"
      ]
     },
     "metadata": {
      "needs_background": "light"
     },
     "output_type": "display_data"
    }
   ],
   "source": [
    "from matplotlib import pyplot as plt\n",
    "fig, ax = plt.subplots( figsize=(10,10))\n",
    "shw = ax.imshow(scaled)\n",
    "\n",
    "# make bar\n",
    "bar = plt.colorbar(shw)\n",
    "  \n",
    "# show plot with labels\n",
    "plt.xticks(np.arange(0,22,1))\n",
    "plt.yticks(np.arange(0,22,1))\n",
    "plt.show()"
   ]
  },
  {
   "cell_type": "code",
   "execution_count": 118,
   "metadata": {},
   "outputs": [
    {
     "data": {
      "image/png": "[encoded data removed]",
      "text/plain": [
       "<Figure size 864x1440 with 2 Axes>"
      ]
     },
     "metadata": {
      "needs_background": "light"
     },
     "output_type": "display_data"
    }
   ],
   "source": [
    "from matplotlib import pyplot as plt\n",
    "plt.figure(figsize=(12,20))\n",
    "shw = plt.imshow(scaled)\n",
    "plt.colorbar(shw)\n",
    "plt.show()"
   ]
  },
  {
   "cell_type": "code",
   "execution_count": 100,
   "metadata": {},
   "outputs": [
    {
     "data": {
      "text/plain": [
       "array([[0.00000000e+00, 1.65238626e-01, 1.74997512e-01, 2.64803353e-01,\n",
       "        3.99996493e-01, 5.55953731e-01, 2.45886977e-01, 4.32379033e-01,\n",
       "        5.55044949e-01, 6.51500609e-01, 2.97216259e-01, 2.79337369e-01,\n",
       "        4.22397167e-01, 4.37231196e-01, 3.11367742e-01, 3.15696018e-01,\n",
       "        3.66805369e-01, 3.78461039e-01, 3.08358274e-01, 3.12273779e-01,\n",
       "        2.92482189e-01, 2.68037533e-01],\n",
       "       [1.65238626e-01, 0.00000000e+00, 3.39537094e-01, 3.91660752e-01,\n",
       "        4.84113066e-01, 6.13155923e-01, 1.15227302e-01, 2.67621839e-01,\n",
       "        3.90968379e-01, 4.91471342e-01, 1.34137238e-01, 2.86651092e-01,\n",
       "        5.22135182e-01, 5.56649047e-01, 1.47440505e-01, 2.69981195e-01,\n",
       "        4.34592705e-01, 4.80217065e-01, 1.56817531e-01, 2.45822152e-01,\n",
       "        3.10903503e-01, 3.30162987e-01],\n",
       "       [1.74997512e-01, 3.39537094e-01, 2.16694835e-08, 1.78683809e-01,\n",
       "        3.47777800e-01, 5.15771901e-01, 4.05648627e-01, 6.05083940e-01,\n",
       "        7.29996437e-01, 8.25821306e-01, 4.69050012e-01, 3.78209565e-01,\n",
       "        3.88567393e-01, 3.70324579e-01, 4.86274125e-01, 4.44132239e-01,\n",
       "        3.85908389e-01, 3.49428499e-01, 4.81872913e-01, 4.52965620e-01,\n",
       "        3.79105912e-01, 3.19249135e-01],\n",
       "       [2.64803353e-01, 3.91660752e-01, 1.78683809e-01, 1.76930592e-08,\n",
       "        1.69452893e-01, 3.37275149e-01, 4.06891904e-01, 6.24346298e-01,\n",
       "        7.64532336e-01, 8.74430189e-01, 4.94250636e-01, 5.29381249e-01,\n",
       "        5.66315601e-01, 5.42434907e-01, 5.31515780e-01, 5.78389649e-01,\n",
       "        5.62177681e-01, 5.27849809e-01, 5.48434325e-01, 5.76970033e-01,\n",
       "        5.36023390e-01, 4.86888848e-01],\n",
       "       [3.99996493e-01, 4.84113066e-01, 3.47777800e-01, 1.69452893e-01,\n",
       "        1.25108821e-08, 1.68018478e-01, 4.56826095e-01, 6.64512661e-01,\n",
       "        8.08333240e-01, 9.24857802e-01, 5.52434657e-01, 6.77729523e-01,\n",
       "        7.35767717e-01, 7.10590696e-01, 6.02370442e-01, 7.13428793e-01,\n",
       "        7.28041136e-01, 6.97166412e-01, 6.34862501e-01, 7.04703811e-01,\n",
       "        6.88075498e-01, 6.46987020e-01],\n",
       "       [5.55953731e-01, 6.13155923e-01, 5.15771901e-01, 3.37275149e-01,\n",
       "        1.68018478e-01, 1.25108821e-08, 5.59350598e-01, 7.43601990e-01,\n",
       "        8.82744475e-01, 1.00000000e+00, 6.53308013e-01, 8.35289521e-01,\n",
       "        9.03478459e-01, 8.76298790e-01, 7.09650944e-01, 8.62098069e-01,\n",
       "        8.95038521e-01, 8.65112142e-01, 7.52032821e-01, 8.48659510e-01,\n",
       "        8.47734775e-01, 8.11361492e-01],\n",
       "       [2.45886977e-01, 1.15227302e-01, 4.05648627e-01, 4.06891904e-01,\n",
       "        4.56826095e-01, 5.59350598e-01, 0.00000000e+00, 2.17553426e-01,\n",
       "        3.59296455e-01, 4.72638673e-01, 9.58086749e-02, 3.99760524e-01,\n",
       "        6.35156345e-01, 6.65883137e-01, 1.50301996e-01, 3.72590616e-01,\n",
       "        5.49755589e-01, 5.92675181e-01, 1.96891209e-01, 3.42753911e-01,\n",
       "        4.24727537e-01, 4.45186416e-01],\n",
       "       [4.32379033e-01, 2.67621839e-01, 6.05083940e-01, 6.24346298e-01,\n",
       "        6.64512661e-01, 7.43601990e-01, 2.17553426e-01, 0.00000000e+00,\n",
       "        1.43901372e-01, 2.60518585e-01, 1.36207098e-01, 4.63141765e-01,\n",
       "        7.43150932e-01, 7.92904403e-01, 1.32022637e-01, 3.93962866e-01,\n",
       "        6.35498972e-01, 7.06195470e-01, 1.74726903e-01, 3.54225390e-01,\n",
       "        4.90558759e-01, 5.42824973e-01],\n",
       "       [5.55044949e-01, 3.90968379e-01, 7.29996437e-01, 7.64532336e-01,\n",
       "        8.08333240e-01, 8.82744475e-01, 3.59296455e-01, 1.43901372e-01,\n",
       "        0.00000000e+00, 1.17555955e-01, 2.70657763e-01, 5.20662290e-01,\n",
       "        8.06805391e-01, 8.66474554e-01, 2.43742377e-01, 4.36128659e-01,\n",
       "        6.91426088e-01, 7.75126980e-01, 2.57552126e-01, 3.97471055e-01,\n",
       "        5.46528142e-01, 6.12460277e-01],\n",
       "       [6.51500609e-01, 4.91471342e-01, 8.25821306e-01, 8.74430189e-01,\n",
       "        9.24857802e-01, 1.00000000e+00, 4.72638673e-01, 2.60518585e-01,\n",
       "        1.17555955e-01, 0.00000000e+00, 3.80732525e-01, 5.70996708e-01,\n",
       "        8.51375516e-01, 9.17607615e-01, 3.45098418e-01, 4.80467677e-01,\n",
       "        7.33363355e-01, 8.24797648e-01, 3.44251030e-01, 4.45682379e-01,\n",
       "        5.94411699e-01, 6.67833853e-01],\n",
       "       [2.97216259e-01, 1.34137238e-01, 4.69050012e-01, 4.94250636e-01,\n",
       "        5.52434657e-01, 6.53308013e-01, 9.58086749e-02, 1.36207098e-01,\n",
       "        2.70657763e-01, 3.80732525e-01, 0.00000000e+00, 3.75540928e-01,\n",
       "        6.38985482e-01, 6.80645154e-01, 6.02548871e-02, 3.27420582e-01,\n",
       "        5.40550188e-01, 5.99018809e-01, 1.17695687e-01, 2.91813539e-01,\n",
       "        4.02526927e-01, 4.40270057e-01],\n",
       "       [2.79337369e-01, 2.86651092e-01, 3.78209565e-01, 5.29381249e-01,\n",
       "        6.77729523e-01, 8.35289521e-01, 3.99760524e-01, 4.63141765e-01,\n",
       "        5.20662290e-01, 5.70996708e-01, 3.75540928e-01, 0.00000000e+00,\n",
       "        2.86223541e-01, 3.47518961e-01, 3.39558307e-01, 9.19325935e-02,\n",
       "        1.73038937e-01, 2.55184227e-01, 2.88483269e-01, 1.25446384e-01,\n",
       "        2.74741675e-02, 9.82833431e-02],\n",
       "       [4.22397167e-01, 5.22135182e-01, 3.88567393e-01, 5.66315601e-01,\n",
       "        7.35767717e-01, 9.03478459e-01, 6.35156345e-01, 7.43150932e-01,\n",
       "        8.06805391e-01, 8.51375516e-01, 6.38985482e-01, 2.86223541e-01,\n",
       "        0.00000000e+00, 7.68716067e-02, 6.14169156e-01, 3.72546377e-01,\n",
       "        1.18183898e-01, 4.39364252e-02, 5.69241993e-01, 4.09956019e-01,\n",
       "        2.60310673e-01, 2.00444795e-01],\n",
       "       [4.37231196e-01, 5.56649047e-01, 3.70324579e-01, 5.42434907e-01,\n",
       "        7.10590696e-01, 8.76298790e-01, 6.65883137e-01, 7.92904403e-01,\n",
       "        8.66474554e-01, 9.17607615e-01, 6.80645154e-01, 3.47518961e-01,\n",
       "        7.68716067e-02, 1.25108821e-08, 6.61820199e-01, 4.37158801e-01,\n",
       "        1.89364116e-01, 9.28530713e-02, 6.21387000e-01, 4.72866028e-01,\n",
       "        3.23299719e-01, 2.54093894e-01],\n",
       "       [3.11367742e-01, 1.47440505e-01, 4.86274125e-01, 5.31515780e-01,\n",
       "        6.02370442e-01, 7.09650944e-01, 1.50301996e-01, 1.32022637e-01,\n",
       "        2.43742377e-01, 3.45098418e-01, 6.02548871e-02, 3.39558307e-01,\n",
       "        6.14169156e-01, 6.61820199e-01, 0.00000000e+00, 2.81220515e-01,\n",
       "        5.09651703e-01, 5.76217713e-01, 6.07885172e-02, 2.43508125e-01,\n",
       "        3.66993233e-01, 4.13760481e-01],\n",
       "       [3.15696018e-01, 2.69981195e-01, 4.44132239e-01, 5.78389649e-01,\n",
       "        7.13428793e-01, 8.62098069e-01, 3.72590616e-01, 3.93962866e-01,\n",
       "        4.36128659e-01, 4.80467677e-01, 3.27420582e-01, 9.19325935e-02,\n",
       "        3.72546377e-01, 4.37158801e-01, 2.81220515e-01, 0.00000000e+00,\n",
       "        2.55733232e-01, 3.44384617e-01, 2.23607953e-01, 3.99648520e-02,\n",
       "        1.13981585e-01, 1.90205452e-01],\n",
       "       [3.66805369e-01, 4.34592705e-01, 3.85908389e-01, 5.62177681e-01,\n",
       "        7.28041136e-01, 8.95038521e-01, 5.49755589e-01, 6.35498972e-01,\n",
       "        6.91426088e-01, 7.33363355e-01, 5.40550188e-01, 1.73038937e-01,\n",
       "        1.18183898e-01, 1.89364116e-01, 5.09651703e-01, 2.55733232e-01,\n",
       "        0.00000000e+00, 9.96309739e-02, 4.60779095e-01, 2.93961106e-01,\n",
       "        1.46024141e-01, 1.05056798e-01],\n",
       "       [3.78461039e-01, 4.80217065e-01, 3.49428499e-01, 5.27849809e-01,\n",
       "        6.97166412e-01, 8.65112142e-01, 5.92675181e-01, 7.06195470e-01,\n",
       "        7.75126980e-01, 8.24797648e-01, 5.99018809e-01, 2.55184227e-01,\n",
       "        4.39364252e-02, 9.28530713e-02, 5.76217713e-01, 3.44384617e-01,\n",
       "        9.96309739e-02, 1.25108821e-08, 5.33162920e-01, 3.80360509e-01,\n",
       "        2.30616705e-01, 1.63992228e-01],\n",
       "       [3.08358274e-01, 1.56817531e-01, 4.81872913e-01, 5.48434325e-01,\n",
       "        6.34862501e-01, 7.52032821e-01, 1.96891209e-01, 1.74726903e-01,\n",
       "        2.57552126e-01, 3.44251030e-01, 1.17695687e-01, 2.88483269e-01,\n",
       "        5.69241993e-01, 6.21387000e-01, 6.07885172e-02, 2.23607953e-01,\n",
       "        4.60779095e-01, 5.33162920e-01, 0.00000000e+00, 1.84973432e-01,\n",
       "        3.15922878e-01, 3.69311381e-01],\n",
       "       [3.12273779e-01, 2.45822152e-01, 4.52965620e-01, 5.76970033e-01,\n",
       "        7.04703811e-01, 8.48659510e-01, 3.42753911e-01, 3.54225390e-01,\n",
       "        3.97471055e-01, 4.45682379e-01, 2.91813539e-01, 1.25446384e-01,\n",
       "        4.09956019e-01, 4.72866028e-01, 2.43508125e-01, 3.99648520e-02,\n",
       "        2.93961106e-01, 3.80360509e-01, 1.84973432e-01, 0.00000000e+00,\n",
       "        1.49910816e-01, 2.22333178e-01],\n",
       "       [2.92482189e-01, 3.10903503e-01, 3.79105912e-01, 5.36023390e-01,\n",
       "        6.88075498e-01, 8.47734775e-01, 4.24727537e-01, 4.90558759e-01,\n",
       "        5.46528142e-01, 5.94411699e-01, 4.02526927e-01, 2.74741675e-02,\n",
       "        2.60310673e-01, 3.23299719e-01, 3.66993233e-01, 1.13981585e-01,\n",
       "        1.46024141e-01, 2.30616705e-01, 3.15922878e-01, 1.49910816e-01,\n",
       "        0.00000000e+00, 8.02521645e-02],\n",
       "       [2.68037533e-01, 3.30162987e-01, 3.19249135e-01, 4.86888848e-01,\n",
       "        6.46987020e-01, 8.11361492e-01, 4.45186416e-01, 5.42824973e-01,\n",
       "        6.12460277e-01, 6.67833853e-01, 4.40270057e-01, 9.82833431e-02,\n",
       "        2.00444795e-01, 2.54093894e-01, 4.13760481e-01, 1.90205452e-01,\n",
       "        1.05056798e-01, 1.63992228e-01, 3.69311381e-01, 2.22333178e-01,\n",
       "        8.02521645e-02, 1.76930592e-08]])"
      ]
     },
     "execution_count": 100,
     "metadata": {},
     "output_type": "execute_result"
    }
   ],
   "source": [
    "scaled"
   ]
  },
  {
   "cell_type": "code",
   "execution_count": 92,
   "metadata": {},
   "outputs": [
    {
     "data": {
      "text/plain": [
       "(22, 22)"
      ]
     },
     "execution_count": 92,
     "metadata": {},
     "output_type": "execute_result"
    }
   ],
   "source": [
    "tmp.reshape(22,22).shape"
   ]
  },
  {
   "cell_type": "code",
   "execution_count": 31,
   "metadata": {},
   "outputs": [],
   "source": [
    "x = [[0.89489048,0.96987676,0.67370659],\n",
    " [0.72482029 ,0.64846226,0.741638  ],\n",
    " [0.73906736 ,1.        ,0.3704638 ],\n",
    " [0.38738733 ,0.8590677  ,0.35196894],\n",
    " [0.16357041 ,0.73907104 ,0.34263184],\n",
    " [0.         ,0.67082815 ,0.33424598],\n",
    " [0.48625168 ,0.53373125, 0.69293411],\n",
    " [0.43191497 ,0.26097773 ,0.6958735 ],\n",
    " [0.41382668 ,0.10730074 ,0.65796632],\n",
    " [0.40801725 ,0.         ,0.60995803],\n",
    " [0.63085603 ,0.51209836 ,0.84881782],\n",
    " [0.68150761 ,0.3449535  ,0.3181374 ],\n",
    " [0.77436214 ,0.44975495 ,0.05230722],\n",
    " [0.82487199 ,0.56044437 ,0.        ],\n",
    " [0.79646909 ,0.52497414,0.95921612],\n",
    " [0.84375522 ,0.35823076, 0.4840297 ],\n",
    " [0.89520145 ,0.4573525  ,0.19185348],\n",
    " [0.91881786 ,0.56927343 ,0.11095688],\n",
    " [0.96145479 ,0.54155565 ,1.        ],\n",
    " [0.95780457 ,0.41185682 ,0.61544989],\n",
    " [0.97983667 ,0.48952921 ,0.41514531],\n",
    " [1.         ,0.59533844 ,0.35599307]]\n",
    "x = np.array(x)"
   ]
  },
  {
   "cell_type": "code",
   "execution_count": 24,
   "metadata": {},
   "outputs": [
    {
     "name": "stdout",
     "output_type": "stream",
     "text": [
      "[[0.89489048 0.96987676 0.67370659]\n",
      " [0.72482029 0.64846226 0.741638  ]\n",
      " [0.73906736 1.         0.3704638 ]\n",
      " [0.38738733 0.8590677  0.35196894]\n",
      " [0.16357041 0.73907104 0.34263184]\n",
      " [0.         0.67082815 0.33424598]\n",
      " [0.48625168 0.53373125 0.69293411]\n",
      " [0.43191497 0.26097773 0.6958735 ]\n",
      " [0.41382668 0.10730074 0.65796632]\n",
      " [0.40801725 0.         0.60995803]\n",
      " [0.63085603 0.51209836 0.84881782]\n",
      " [0.68150761 0.3449535  0.3181374 ]\n",
      " [0.77436214 0.44975495 0.05230722]\n",
      " [0.82487199 0.56044437 0.        ]\n",
      " [0.79646909 0.52497414 0.95921612]\n",
      " [0.84375522 0.35823076 0.4840297 ]\n",
      " [0.89520145 0.4573525  0.19185348]\n",
      " [0.91881786 0.56927343 0.11095688]\n",
      " [0.96145479 0.54155565 1.        ]\n",
      " [0.95780457 0.41185682 0.61544989]\n",
      " [0.97983667 0.48952921 0.41514531]\n",
      " [1.         0.59533844 0.35599307]]\n"
     ]
    },
    {
     "ename": "IndexError",
     "evalue": "index 32 is out of bounds for axis 1 with size 11",
     "output_type": "error",
     "traceback": [
      "\u001b[0;31m---------------------------------------------------------------------------\u001b[0m",
      "\u001b[0;31mIndexError\u001b[0m                                Traceback (most recent call last)",
      "\u001b[0;32m<ipython-input-24-d89eb8cea87a>\u001b[0m in \u001b[0;36m<module>\u001b[0;34m\u001b[0m\n\u001b[0;32m----> 1\u001b[0;31m \u001b[0mX\u001b[0m\u001b[0;34m,\u001b[0m \u001b[0m_\u001b[0m \u001b[0;34m=\u001b[0m \u001b[0mtrain_generator\u001b[0m\u001b[0;34m.\u001b[0m\u001b[0m__getitem__\u001b[0m\u001b[0;34m(\u001b[0m\u001b[0;36m0\u001b[0m\u001b[0;34m)\u001b[0m\u001b[0;34m\u001b[0m\u001b[0;34m\u001b[0m\u001b[0m\n\u001b[0m",
      "\u001b[0;32m<ipython-input-15-a82b4212dfd6>\u001b[0m in \u001b[0;36m__getitem__\u001b[0;34m(self, index)\u001b[0m\n\u001b[1;32m     26\u001b[0m         \u001b[0mlist_IDs_temp\u001b[0m \u001b[0;34m=\u001b[0m \u001b[0;34m[\u001b[0m\u001b[0mself\u001b[0m\u001b[0;34m.\u001b[0m\u001b[0mIDs\u001b[0m\u001b[0;34m[\u001b[0m\u001b[0mk\u001b[0m\u001b[0;34m]\u001b[0m \u001b[0;32mfor\u001b[0m \u001b[0mk\u001b[0m \u001b[0;32min\u001b[0m \u001b[0mindexes\u001b[0m\u001b[0;34m]\u001b[0m\u001b[0;34m\u001b[0m\u001b[0;34m\u001b[0m\u001b[0m\n\u001b[1;32m     27\u001b[0m \u001b[0;34m\u001b[0m\u001b[0m\n\u001b[0;32m---> 28\u001b[0;31m         \u001b[0mX\u001b[0m\u001b[0;34m,\u001b[0m\u001b[0my\u001b[0m \u001b[0;34m=\u001b[0m \u001b[0mself\u001b[0m\u001b[0;34m.\u001b[0m\u001b[0m__data_generation\u001b[0m\u001b[0;34m(\u001b[0m\u001b[0mlist_IDs_temp\u001b[0m\u001b[0;34m)\u001b[0m\u001b[0;34m\u001b[0m\u001b[0;34m\u001b[0m\u001b[0m\n\u001b[0m\u001b[1;32m     29\u001b[0m \u001b[0;34m\u001b[0m\u001b[0m\n\u001b[1;32m     30\u001b[0m         \u001b[0;32mreturn\u001b[0m \u001b[0mX\u001b[0m\u001b[0;34m,\u001b[0m\u001b[0my\u001b[0m\u001b[0;34m\u001b[0m\u001b[0;34m\u001b[0m\u001b[0m\n",
      "\u001b[0;32m<ipython-input-15-a82b4212dfd6>\u001b[0m in \u001b[0;36m__data_generation\u001b[0;34m(self, list_IDs_temp)\u001b[0m\n\u001b[1;32m     40\u001b[0m             \u001b[0my\u001b[0m\u001b[0;34m[\u001b[0m\u001b[0mi\u001b[0m\u001b[0;34m]\u001b[0m \u001b[0;34m=\u001b[0m \u001b[0mself\u001b[0m\u001b[0;34m.\u001b[0m\u001b[0mlabels\u001b[0m\u001b[0;34m[\u001b[0m\u001b[0mID\u001b[0m\u001b[0;34m]\u001b[0m\u001b[0;34m\u001b[0m\u001b[0;34m\u001b[0m\u001b[0m\n\u001b[1;32m     41\u001b[0m \u001b[0;34m\u001b[0m\u001b[0m\n\u001b[0;32m---> 42\u001b[0;31m         \u001b[0;32mreturn\u001b[0m \u001b[0mX\u001b[0m\u001b[0;34m,\u001b[0m \u001b[0mto_categorical\u001b[0m\u001b[0;34m(\u001b[0m\u001b[0my\u001b[0m\u001b[0;34m,\u001b[0m \u001b[0mnum_classes\u001b[0m \u001b[0;34m=\u001b[0m \u001b[0mself\u001b[0m\u001b[0;34m.\u001b[0m\u001b[0mn_classes\u001b[0m\u001b[0;34m)\u001b[0m\u001b[0;34m\u001b[0m\u001b[0;34m\u001b[0m\u001b[0m\n\u001b[0m",
      "\u001b[0;32m~/.local/lib/python3.8/site-packages/keras/utils/np_utils.py\u001b[0m in \u001b[0;36mto_categorical\u001b[0;34m(y, num_classes, dtype)\u001b[0m\n\u001b[1;32m     69\u001b[0m   \u001b[0mn\u001b[0m \u001b[0;34m=\u001b[0m \u001b[0my\u001b[0m\u001b[0;34m.\u001b[0m\u001b[0mshape\u001b[0m\u001b[0;34m[\u001b[0m\u001b[0;36m0\u001b[0m\u001b[0;34m]\u001b[0m\u001b[0;34m\u001b[0m\u001b[0;34m\u001b[0m\u001b[0m\n\u001b[1;32m     70\u001b[0m   \u001b[0mcategorical\u001b[0m \u001b[0;34m=\u001b[0m \u001b[0mnp\u001b[0m\u001b[0;34m.\u001b[0m\u001b[0mzeros\u001b[0m\u001b[0;34m(\u001b[0m\u001b[0;34m(\u001b[0m\u001b[0mn\u001b[0m\u001b[0;34m,\u001b[0m \u001b[0mnum_classes\u001b[0m\u001b[0;34m)\u001b[0m\u001b[0;34m,\u001b[0m \u001b[0mdtype\u001b[0m\u001b[0;34m=\u001b[0m\u001b[0mdtype\u001b[0m\u001b[0;34m)\u001b[0m\u001b[0;34m\u001b[0m\u001b[0;34m\u001b[0m\u001b[0m\n\u001b[0;32m---> 71\u001b[0;31m   \u001b[0mcategorical\u001b[0m\u001b[0;34m[\u001b[0m\u001b[0mnp\u001b[0m\u001b[0;34m.\u001b[0m\u001b[0marange\u001b[0m\u001b[0;34m(\u001b[0m\u001b[0mn\u001b[0m\u001b[0;34m)\u001b[0m\u001b[0;34m,\u001b[0m \u001b[0my\u001b[0m\u001b[0;34m]\u001b[0m \u001b[0;34m=\u001b[0m \u001b[0;36m1\u001b[0m\u001b[0;34m\u001b[0m\u001b[0;34m\u001b[0m\u001b[0m\n\u001b[0m\u001b[1;32m     72\u001b[0m   \u001b[0moutput_shape\u001b[0m \u001b[0;34m=\u001b[0m \u001b[0minput_shape\u001b[0m \u001b[0;34m+\u001b[0m \u001b[0;34m(\u001b[0m\u001b[0mnum_classes\u001b[0m\u001b[0;34m,\u001b[0m\u001b[0;34m)\u001b[0m\u001b[0;34m\u001b[0m\u001b[0;34m\u001b[0m\u001b[0m\n\u001b[1;32m     73\u001b[0m   \u001b[0mcategorical\u001b[0m \u001b[0;34m=\u001b[0m \u001b[0mnp\u001b[0m\u001b[0;34m.\u001b[0m\u001b[0mreshape\u001b[0m\u001b[0;34m(\u001b[0m\u001b[0mcategorical\u001b[0m\u001b[0;34m,\u001b[0m \u001b[0moutput_shape\u001b[0m\u001b[0;34m)\u001b[0m\u001b[0;34m\u001b[0m\u001b[0;34m\u001b[0m\u001b[0m\n",
      "\u001b[0;31mIndexError\u001b[0m: index 32 is out of bounds for axis 1 with size 11"
     ]
    }
   ],
   "source": [
    "X, _ = train_generator.__getitem__(0)"
   ]
  },
  {
   "cell_type": "code",
   "execution_count": 187,
   "metadata": {},
   "outputs": [],
   "source": [
    "x = unpickle(f\"{data_dir}/{x_train[0]}\")"
   ]
  },
  {
   "cell_type": "code",
   "execution_count": null,
   "metadata": {},
   "outputs": [],
   "source": [
    "generalnie muszę teraz ogarnąć jak się liczy kąt między dwoma wektorami"
   ]
  },
  {
   "cell_type": "code",
   "execution_count": 188,
   "metadata": {},
   "outputs": [
    {
     "data": {
      "text/plain": [
       "array([[9.77353026e-01, 9.12429555e-01, 5.17594024e-01],\n",
       "       [8.50896902e-01, 3.27361548e-01, 6.50511974e-01],\n",
       "       [7.70488774e-01, 1.00000000e+00, 7.93013731e-01],\n",
       "       [4.66910645e-01, 5.79829403e-01, 6.88558188e-01],\n",
       "       [2.51624507e-01, 2.96386939e-01, 6.56227410e-01],\n",
       "       [1.18653321e-01, 9.85007863e-02, 5.70685248e-01],\n",
       "       [7.36898549e-01, 8.55170946e-02, 1.00000000e+00],\n",
       "       [3.65013258e-01, 4.76921167e-02, 7.67009179e-01],\n",
       "       [1.59383429e-01, 5.64830068e-02, 6.22457620e-01],\n",
       "       [1.59404918e-02, 7.26942086e-02, 5.16287289e-01],\n",
       "       [8.47494682e-01, 5.01819946e-02, 7.45409851e-01],\n",
       "       [4.20221411e-01, 1.70418248e-04, 5.23288480e-01],\n",
       "       [1.67102241e-01, 0.00000000e+00, 3.91514245e-01],\n",
       "       [0.00000000e+00, 9.13058222e-03, 3.04461489e-01],\n",
       "       [9.46298913e-01, 8.93919012e-02, 4.71219240e-01],\n",
       "       [5.46575454e-01, 3.26223006e-02, 2.85147797e-01],\n",
       "       [2.96220947e-01, 2.68280802e-02, 1.73498985e-01],\n",
       "       [1.27098500e-01, 3.23943439e-02, 9.96347493e-02],\n",
       "       [1.00000000e+00, 1.54204003e-01, 1.98751382e-01],\n",
       "       [6.80579318e-01, 7.41920399e-02, 9.40672979e-02],\n",
       "       [5.00536736e-01, 4.69867783e-02, 4.25685694e-02],\n",
       "       [3.40841519e-01, 3.02696316e-02, 0.00000000e+00]])"
      ]
     },
     "execution_count": 188,
     "metadata": {},
     "output_type": "execute_result"
    }
   ],
   "source": [
    "x"
   ]
  }
 ],
 "metadata": {
  "kernelspec": {
   "display_name": "Python 3",
   "language": "python",
   "name": "python3"
  },
  "language_info": {
   "codemirror_mode": {
    "name": "ipython",
    "version": 3
   },
   "file_extension": ".py",
   "mimetype": "text/x-python",
   "name": "python",
   "nbconvert_exporter": "python",
   "pygments_lexer": "ipython3",
   "version": "3.8.10"
  }
 },
 "nbformat": 4,
 "nbformat_minor": 4
}
