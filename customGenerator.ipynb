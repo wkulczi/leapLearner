{
 "cells": [
  {
   "cell_type": "code",
   "execution_count": 84,
   "metadata": {},
   "outputs": [],
   "source": [
    "import numpy as np\n",
    "import keras\n",
    "import os\n",
    "import math\n",
    "from tensorflow.keras.utils import to_categorical\n",
    "from sklearn.model_selection import train_test_split\n",
    "import pickle"
   ]
  },
  {
   "cell_type": "code",
   "execution_count": 2,
   "metadata": {},
   "outputs": [
    {
     "name": "stdout",
     "output_type": "stream",
     "text": [
      "leapJoints  mpJoints  myjoints.png  readme.md\n"
     ]
    }
   ],
   "source": [
    "!ls ../train/joints/"
   ]
  },
  {
   "cell_type": "code",
   "execution_count": 105,
   "metadata": {},
   "outputs": [],
   "source": [
    "#leap numerical data directory\n",
    "data_dir = \"../train/joints/mpJoints\""
   ]
  },
  {
   "cell_type": "code",
   "execution_count": 106,
   "metadata": {},
   "outputs": [],
   "source": [
    "fileNames = [file for file in \n",
    "os.listdir(data_dir) if os.path.isfile(os.path.join(data_dir, file))]\n",
    "classes = list(sorted(set([x[0] for x in fileNames])))\n",
    "Ys = [classes.index(x[0]) for x in fileNames]"
   ]
  },
  {
   "cell_type": "code",
   "execution_count": 107,
   "metadata": {},
   "outputs": [],
   "source": [
    "def unpickle(filepath):\n",
    "    with open(filepath, \"rb\") as input_file:\n",
    "        e = pickle.load(input_file)\n",
    "    return e\n",
    "\n",
    "def train_val_test_split(dataX, dataY, train = 0.7, val = 0.2, test=0.1):\n",
    "    x_train, x_test, y_train, y_test = train_test_split(dataX, dataY, test_size=1 - train)\n",
    "    x_val, x_test, y_val, y_test = train_test_split(x_test, y_test, test_size=test/(test + val)) \n",
    "\n",
    "    return x_train, x_val, x_test, y_train, y_val, y_test"
   ]
  },
  {
   "cell_type": "code",
   "execution_count": 108,
   "metadata": {},
   "outputs": [],
   "source": [
    "x_train, x_val, x_test, y_train, y_val, y_test = train_val_test_split(fileNames, Ys)"
   ]
  },
  {
   "cell_type": "code",
   "execution_count": 109,
   "metadata": {},
   "outputs": [],
   "source": [
    "class JointDataGenerator(keras.utils.all_utils.Sequence):\n",
    "    def __init__(self, IDs, labels,data_directory, batch_size=4, dim=(22,22), n_classes=11, shuffle=True, calculate='angle'):\n",
    "        self.dim = dim\n",
    "        self.batch_size = batch_size\n",
    "        self.labels = labels\n",
    "        self.IDs = IDs\n",
    "        self.n_classes = n_classes\n",
    "        self.shuffle = shuffle\n",
    "        self.indexes = []\n",
    "        self.data_dir = data_directory\n",
    "        self.calculate = calculate\n",
    "        \n",
    "        \n",
    "        if self.calculate==\"angle\":\n",
    "            #The angle between vectors aply formula that uses arccos to get the angle (in radians)\n",
    "            #https://www.youtube.com/watch?v=ECNH_1TTOjs\n",
    "            self.minX = np.arccos(1)    #math.PI\n",
    "            self.maxX = np.arccos(-1)   #0\n",
    "        else: # calculate == \"distance\":\n",
    "            #position data is normalized in range <0,1>, we can estimate the max and min distances with that info\n",
    "            self.minX = self.distance_between([0,0,0], [0,0,0])\n",
    "            self.maxX = self.distance_between([0,0,0], [1,1,1]) \n",
    "        \n",
    "\n",
    "        self.update_indexes()\n",
    "        \n",
    "    def update_indexes(self):\n",
    "        self.indexes = np.arange(len(self.IDs))\n",
    "        if self.shuffle == True:\n",
    "            np.random.shuffle(self.indexes)\n",
    "    \n",
    "    def __len__(self): \n",
    "        # will always omit last batch of data \n",
    "        # so the train dataset will always be lower than expected\n",
    "        return int(np.floor(len(self.IDs) / self.batch_size))\n",
    "    \n",
    "    def __getitem__(self,index):\n",
    "        indexes = self.indexes[index*self.batch_size:(index+1)*self.batch_size]\n",
    "        \n",
    "        list_IDs_temp = [self.IDs[k] for k in indexes]\n",
    "        \n",
    "        X,y = self.__data_generation(list_IDs_temp)\n",
    "        \n",
    "        return X,y\n",
    "    \n",
    "    def unit_vector(self, vector):\n",
    "        \"\"\" Returns the unit vector of the vector.  \"\"\"\n",
    "        return vector / np.linalg.norm(vector)\n",
    "    \n",
    "    def angle_between(self, v1, v2):\n",
    "        \"\"\" Returns the angle in radians between vectors 'v1' and 'v2'. \"\"\"\n",
    "        v1_u = self.unit_vector(v1)\n",
    "        v2_u = self.unit_vector(v2)\n",
    "        return np.arccos(np.clip(np.dot(v1_u, v2_u), -1.0, 1.0))\n",
    "\n",
    "    def distance_between(self, v1, v2):\n",
    "        return math.dist(v1, v2)\n",
    "    \n",
    "    def min_max_scale(self, x):\n",
    "        return (x-self.minX)/(self.maxX - self.minX)\n",
    "    \n",
    "    def calcAngles(self, jointVectors): #todo change leapVectors -> jointVectors\n",
    "        data = np.zeros((max(jointVectors.shape), max(jointVectors.shape), 1))\n",
    "        for i_ind, row_i in enumerate(jointVectors):\n",
    "            for j_ind, row_j in enumerate(jointVectors):\n",
    "                data[i_ind][j_ind]=[self.min_max_scale(self.angle_between(row_i, row_j))]\n",
    "        return data\n",
    "    \n",
    "    def calcDistances(self, jointVectors):\n",
    "        data = np.zeros((max(jointVectors.shape), max(jointVectors.shape), 1))\n",
    "        for i_ind, row_i in enumerate(jointVectors):\n",
    "            for j_ind, row_j in enumerate(jointVectors):\n",
    "                data[i_ind][j_ind]=[self.min_max_scale(self.distance_between(row_i, row_j))]\n",
    "        return data    \n",
    "    \n",
    "    def __data_generation(self, list_IDs_temp):\n",
    "        X = np.empty((self.batch_size, *self.dim, 1))\n",
    "        y = np.empty((self.batch_size), dtype=int)\n",
    "        \n",
    "        \n",
    "        for i, ID in enumerate(list_IDs_temp):\n",
    "            data = unpickle(f\"{self.data_dir}/{ID}\")\n",
    "            if self.calculate == \"angle\":\n",
    "                X[i] = self.calcAngles(data)\n",
    "            else: #calculate distance\n",
    "                X[i] = self.calcDistances(data)\n",
    "            y[i] = self.labels[ID]\n",
    "            \n",
    "        return X, to_categorical(y, num_classes = self.n_classes)"
   ]
  },
  {
   "cell_type": "code",
   "execution_count": 110,
   "metadata": {},
   "outputs": [],
   "source": [
    "train_generator = JointDataGenerator(x_train[:5], dict(zip(x_train, y_train)), data_dir, calculate='dist')    #calculate euclidian distance between each joint\n",
    "# train_generator = JointDataGenerator(x_train[:5], dict(zip(x_train, y_train)), data_dir, calculate='angle') #calculate angle (in radians) between each joint "
   ]
  },
  {
   "cell_type": "code",
   "execution_count": 45,
   "metadata": {},
   "outputs": [],
   "source": [
    "import numpy as np\n",
    "\n",
    "def unit_vector(vector):\n",
    "    \"\"\" Returns the unit vector of the vector.  \"\"\"\n",
    "    return vector / np.linalg.norm(vector)\n",
    "\n",
    "def angle_between(v1, v2):\n",
    "    \"\"\" Returns the angle in radians between vectors 'v1' and 'v2'. \"\"\"\n",
    "    v1_u = unit_vector(v1)\n",
    "    v2_u = unit_vector(v2)\n",
    "    return np.arccos(np.clip(np.dot(v1_u, v2_u), -1.0, 1.0))"
   ]
  },
  {
   "cell_type": "code",
   "execution_count": 8,
   "metadata": {},
   "outputs": [],
   "source": [
    "def do_the_thing(data):\n",
    "    print(data)"
   ]
  },
  {
   "cell_type": "code",
   "execution_count": 42,
   "metadata": {},
   "outputs": [],
   "source": [
    "def unit_vector(vector):\n",
    "    \"\"\" Returns the unit vector of the vector.  \"\"\"\n",
    "    return vector / np.linalg.norm(vector)\n",
    "\n",
    "def angle_between(v1, v2):\n",
    "    \"\"\" Returns the angle in radians between vectors 'v1' and 'v2'. \"\"\"\n",
    "    v1_u = unit_vector(v1)\n",
    "    v2_u = unit_vector(v2)\n",
    "    return np.arccos(np.clip(np.dot(v1_u, v2_u), -1.0, 1.0))"
   ]
  },
  {
   "cell_type": "code",
   "execution_count": 78,
   "metadata": {},
   "outputs": [
    {
     "data": {
      "text/plain": [
       "array([0., 1., 0., 0., 0., 0., 0., 0., 0., 0., 0.], dtype=float32)"
      ]
     },
     "execution_count": 78,
     "metadata": {},
     "output_type": "execute_result"
    }
   ],
   "source": [
    "y[0]"
   ]
  },
  {
   "cell_type": "code",
   "execution_count": 104,
   "metadata": {},
   "outputs": [
    {
     "data": {
      "image/png": "[encoded data removed]",
      "text/plain": [
       "<Figure size 720x720 with 2 Axes>"
      ]
     },
     "metadata": {
      "needs_background": "light"
     },
     "output_type": "display_data"
    },
    {
     "name": "stdout",
     "output_type": "stream",
     "text": [
      "B\n"
     ]
    }
   ],
   "source": [
    "from matplotlib import pyplot as plt\n",
    "fig, ax = plt.subplots( figsize=(10,10))\n",
    "shw = ax.imshow(X[0])\n",
    "\n",
    "# make bar\n",
    "bar = plt.colorbar(shw)\n",
    "  \n",
    "# show plot with labels\n",
    "plt.xticks(np.arange(0,22,1))\n",
    "plt.yticks(np.arange(0,22,1))\n",
    "plt.show()\n",
    "print(classes[np.argmax(y[0], axis=-1)])"
   ]
  }
 ],
 "metadata": {
  "kernelspec": {
   "display_name": "Python 3",
   "language": "python",
   "name": "python3"
  },
  "language_info": {
   "codemirror_mode": {
    "name": "ipython",
    "version": 3
   },
   "file_extension": ".py",
   "mimetype": "text/x-python",
   "name": "python",
   "nbconvert_exporter": "python",
   "pygments_lexer": "ipython3",
   "version": "3.8.10"
  }
 },
 "nbformat": 4,
 "nbformat_minor": 4
}
