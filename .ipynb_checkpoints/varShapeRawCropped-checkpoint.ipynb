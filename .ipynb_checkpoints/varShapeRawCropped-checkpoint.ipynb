{
 "cells": [
  {
   "cell_type": "markdown",
   "metadata": {},
   "source": [
    "Sources\n",
    "\n",
    "- https://stanford.edu/~shervine/blog/keras-how-to-generate-data-on-the-fly\n",
    "- https://medium.com/mindboard/image-classification-with-variable-input-resolution-in-keras-cbfbe576126f"
   ]
  },
  {
   "cell_type": "code",
   "execution_count": 2,
   "metadata": {},
   "outputs": [],
   "source": [
    "import numpy as np\n",
    "import keras\n",
    "import tensorflow as tf\n",
    "import cv2"
   ]
  },
  {
   "cell_type": "code",
   "execution_count": 3,
   "metadata": {},
   "outputs": [
    {
     "ename": "SyntaxError",
     "evalue": "unexpected EOF while parsing (<ipython-input-3-a160e8535278>, line 57)",
     "output_type": "error",
     "traceback": [
      "\u001b[0;36m  File \u001b[0;32m\"<ipython-input-3-a160e8535278>\"\u001b[0;36m, line \u001b[0;32m57\u001b[0m\n\u001b[0;31m    \u001b[0m\n\u001b[0m    ^\u001b[0m\n\u001b[0;31mSyntaxError\u001b[0m\u001b[0;31m:\u001b[0m unexpected EOF while parsing\n"
     ]
    }
   ],
   "source": [
    "class DataGen(keras.utils.Sequence):\n",
    "    \n",
    "    def __init__(self, IDs, labels, dataDirectory, batch_size=32, n_channels=1, n_classes=10, shuffle=True):\n",
    "        self.IDs = IDs\n",
    "        self.labels = labels\n",
    "        self.dataDirectory = dataDirectory\n",
    "        self.batch_size = batch_size\n",
    "        self.n_channels = n_channels\n",
    "        self.n_classes = n_classes\n",
    "        self.shuffle = shuffle\n",
    "        self.indexes = [] #indexes of files that will be picked in batch\n",
    "        self.onEpochEnd()\n",
    "        \n",
    "    def onEpochEnd(self):\n",
    "        self.indexes = np.arange(len(self.IDs))\n",
    "        if self.shuffle:\n",
    "            np.random.shuffle(self.indexes)\n",
    "    \n",
    "    def __len__(self):\n",
    "        return int(np.floor(len(self.IDs)/float(self.batch_size)))\n",
    "    \n",
    "    def __getitem__(self,index): #generate batch\n",
    "        \n",
    "        rangeStart = index * self.batch_size\n",
    "        rangeEnd = index+1 * self.batch_size\n",
    "        indexes = self.indexes[rangeStart:rangeEnd]\n",
    "        \n",
    "        pickedIDs = [self.IDs[i] for i in indexes]\n",
    "        \n",
    "        X,y = self.__generate_data(pickedIDs)\n",
    "        return X,y\n",
    "    \n",
    "    def __load_image(self, imageName):\n",
    "        img = keras.preprocessing.image.load_img(f\"{self.dataDirectory}/{imageName}\", color_mode='rgb')\n",
    "        greyscale = tf.image.rgb_to_grayscale(img)\n",
    "        img = keras.utils.img_to_array(greyscale)\n",
    "        \n",
    "        max_dim = max(img.shape)\n",
    "        if self.max_dimension:\n",
    "            if max_dim > self.max_dimension:\n",
    "                new_dim = tuple(dim*self.max_dimension//max_dim for d in img.shape[1::-1])\n",
    "                img = cv2.resize(img,new_dim)\n",
    "                \n",
    "        img = img / 255\n",
    "        \n",
    "        return img\n",
    "    \n",
    "    def __pad_images(self, maxres):\n",
    "        \n",
    "    \n",
    "    def __generate_data(self, pickedIDs):\n",
    "        Xs = [self.__load_image(imageID) for imageID in pickedIDs]\n",
    "        Ys = [self.labels[imageID] for imageID in pickedIDs]\n",
    "        \n",
    "        maxres = tuple(max([img.shape[i] for img in Xs]) for i in range(2))\n",
    "        Xs = np.array([self.__pad_images(image,maxres) for image in Xs])\n",
    "        \n",
    "        return Xs, keras.utils.to_categorically(Ys, num_classes=self.n_classes)\n",
    "    \n",
    "    \n",
    "    "
   ]
  }
 ],
 "metadata": {
  "kernelspec": {
   "display_name": "Python 3",
   "language": "python",
   "name": "python3"
  },
  "language_info": {
   "codemirror_mode": {
    "name": "ipython",
    "version": 3
   },
   "file_extension": ".py",
   "mimetype": "text/x-python",
   "name": "python",
   "nbconvert_exporter": "python",
   "pygments_lexer": "ipython3",
   "version": "3.8.10"
  }
 },
 "nbformat": 4,
 "nbformat_minor": 4
}
