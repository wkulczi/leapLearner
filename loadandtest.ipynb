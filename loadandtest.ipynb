{
 "cells": [
  {
   "cell_type": "code",
   "execution_count": 43,
   "id": "fea88aa2-54a7-462b-95fc-0243b238615c",
   "metadata": {},
   "outputs": [],
   "source": [
    "import PIL.Image\n",
    "import cv2\n",
    "import numpy as np\n",
    "import matplotlib.pyplot as plt"
   ]
  },
  {
   "cell_type": "code",
   "execution_count": 1,
   "id": "902b27b9-c992-47a7-aecc-c96dc983e36f",
   "metadata": {},
   "outputs": [],
   "source": [
    "from tensorflow import keras\n",
    "model = keras.models.load_model('171cropped.h5')"
   ]
  },
  {
   "cell_type": "code",
   "execution_count": 25,
   "id": "ebb7b81f-0a7a-4902-84dc-2db4160e470f",
   "metadata": {},
   "outputs": [
    {
     "name": "stdout",
     "output_type": "stream",
     "text": [
      "A  B  E  G  H  I  L  P\tR  V  W\n"
     ]
    }
   ],
   "source": [
    "!ls ../train/photoRaw/leapCropped/"
   ]
  },
  {
   "cell_type": "code",
   "execution_count": 92,
   "id": "f5a7efc2-6f80-4ddb-a863-b604204ff262",
   "metadata": {},
   "outputs": [],
   "source": [
    "testfile = \"../train/photoRaw/leapCropped/P/P-1000.jpeg\""
   ]
  },
  {
   "cell_type": "code",
   "execution_count": 23,
   "id": "06cb885b-178b-4f9b-b6b6-df7fc51565bb",
   "metadata": {},
   "outputs": [],
   "source": [
    "!eog ../train/photoRaw/leapCropped/W-1000.jpeg"
   ]
  },
  {
   "cell_type": "code",
   "execution_count": 94,
   "id": "e830a6fb-f039-44c9-8587-cc5aa567e815",
   "metadata": {},
   "outputs": [],
   "source": [
    "image = PIL.Image.open(testfile)"
   ]
  },
  {
   "cell_type": "code",
   "execution_count": 95,
   "id": "7ffba3a5-ea71-457f-8165-619359446017",
   "metadata": {},
   "outputs": [
    {
     "data": {
      "image/png": "[encoded data removed]",
      "text/plain": [
       "<PIL.JpegImagePlugin.JpegImageFile image mode=L size=96x80>"
      ]
     },
     "execution_count": 95,
     "metadata": {},
     "output_type": "execute_result"
    }
   ],
   "source": [
    "image"
   ]
  },
  {
   "cell_type": "code",
   "execution_count": 96,
   "id": "e1334e22-0cda-4729-a728-40136e8500ff",
   "metadata": {},
   "outputs": [],
   "source": [
    "open_cv_image = np.array(image) \n",
    "# Convert RGB to BGR \n",
    "# open_cv_image = open_cv_image[:, :, ::-1].copy()"
   ]
  },
  {
   "cell_type": "code",
   "execution_count": 97,
   "id": "5297660f-3f9a-417b-9fc5-d642ac2dae35",
   "metadata": {},
   "outputs": [],
   "source": [
    "open_cv_image= cv2.resize(open_cv_image,(64,64))"
   ]
  },
  {
   "cell_type": "code",
   "execution_count": 98,
   "id": "d4478a78-3bbb-427e-96e2-3071a6602f55",
   "metadata": {},
   "outputs": [
    {
     "data": {
      "image/png": "[encoded data removed]",
      "text/plain": [
       "<Figure size 432x288 with 1 Axes>"
      ]
     },
     "metadata": {
      "needs_background": "light"
     },
     "output_type": "display_data"
    }
   ],
   "source": [
    "plt.imshow(open_cv_image, cmap=plt.get_cmap('gray'))\n",
    "plt.show()"
   ]
  },
  {
   "cell_type": "code",
   "execution_count": null,
   "id": "79399405-22e1-4cf4-9989-9bda5a2b30b0",
   "metadata": {},
   "outputs": [],
   "source": []
  },
  {
   "cell_type": "code",
   "execution_count": 99,
   "id": "5656da6e-b3d0-417c-8f32-2599e1cf2d3d",
   "metadata": {},
   "outputs": [],
   "source": [
    "def image_resize(image, width = None, height = None, inter = cv2.INTER_AREA):\n",
    "    # initialize the dimensions of the image to be resized and\n",
    "    # grab the image size\n",
    "    dim = None\n",
    "    (h, w) = image.shape[:2]\n",
    "\n",
    "    # if both the width and height are None, then return the\n",
    "    # original image\n",
    "    if width is None and height is None:\n",
    "        return image\n",
    "\n",
    "    # check to see if the width is None\n",
    "    if width is None:\n",
    "        # calculate the ratio of the height and construct the\n",
    "        # dimensions\n",
    "        r = height / float(h)\n",
    "        dim = (int(w * r), height)\n",
    "\n",
    "    # otherwise, the height is None\n",
    "    else:\n",
    "        # calculate the ratio of the width and construct the\n",
    "        # dimensions\n",
    "        r = width / float(w)\n",
    "        dim = (width, int(h * r))\n",
    "\n",
    "    # resize the image\n",
    "    resized = cv2.resize(image, dim, interpolation = inter)\n",
    "\n",
    "    # return the resized image\n",
    "    return resized\n",
    "\n",
    "def padImageToSize(oldImg, newHeight, newWidth, fillVal=0, isGrayscale=True):\n",
    "    \n",
    "    if isGrayscale:\n",
    "        oldHeight, oldWidth = oldImg.shape\n",
    "        result = np.full((newHeight, newWidth), fillVal, dtype=np.uint8)\n",
    "    else:\n",
    "        oldHeight, oldWidth, oldDepth = oldImg.shape\n",
    "        result = np.full((newHeight, newWidth, oldDepth), fillVal, dtype=np.uint8)\n",
    "\n",
    "    xCenter = (newWidth - oldWidth) // 2\n",
    "    yCenter = (newHeight - oldHeight) // 2\n",
    "\n",
    "    result[yCenter: yCenter + oldHeight, xCenter:xCenter + oldWidth] = oldImg\n",
    "\n",
    "    return result"
   ]
  },
  {
   "cell_type": "code",
   "execution_count": 100,
   "id": "9e25f1d6-08b9-4a51-8138-51b4f5d960ae",
   "metadata": {},
   "outputs": [
    {
     "ename": "ValueError",
     "evalue": "could not broadcast input array from shape (171,205) into shape (171,17)",
     "output_type": "error",
     "traceback": [
      "\u001b[0;31m---------------------------------------------------------------------------\u001b[0m",
      "\u001b[0;31mValueError\u001b[0m                                Traceback (most recent call last)",
      "\u001b[0;32m<ipython-input-100-7eec01b1c166>\u001b[0m in \u001b[0;36m<module>\u001b[0;34m\u001b[0m\n\u001b[1;32m      1\u001b[0m \u001b[0mopen_cv_image\u001b[0m \u001b[0;34m=\u001b[0m \u001b[0mnp\u001b[0m\u001b[0;34m.\u001b[0m\u001b[0marray\u001b[0m\u001b[0;34m(\u001b[0m\u001b[0mimage\u001b[0m\u001b[0;34m)\u001b[0m\u001b[0;34m\u001b[0m\u001b[0;34m\u001b[0m\u001b[0m\n\u001b[1;32m      2\u001b[0m \u001b[0mopen_cv_image\u001b[0m \u001b[0;34m=\u001b[0m \u001b[0mimage_resize\u001b[0m\u001b[0;34m(\u001b[0m\u001b[0mopen_cv_image\u001b[0m\u001b[0;34m,\u001b[0m \u001b[0mheight\u001b[0m \u001b[0;34m=\u001b[0m \u001b[0;36m171\u001b[0m\u001b[0;34m)\u001b[0m\u001b[0;34m\u001b[0m\u001b[0;34m\u001b[0m\u001b[0m\n\u001b[0;32m----> 3\u001b[0;31m \u001b[0mopen_cv_image\u001b[0m \u001b[0;34m=\u001b[0m \u001b[0mpadImageToSize\u001b[0m\u001b[0;34m(\u001b[0m\u001b[0mopen_cv_image\u001b[0m\u001b[0;34m,\u001b[0m \u001b[0;36m171\u001b[0m\u001b[0;34m,\u001b[0m \u001b[0;36m171\u001b[0m\u001b[0;34m,\u001b[0m \u001b[0mfillVal\u001b[0m\u001b[0;34m=\u001b[0m\u001b[0;36m0\u001b[0m\u001b[0;34m,\u001b[0m \u001b[0misGrayscale\u001b[0m\u001b[0;34m=\u001b[0m\u001b[0;32mTrue\u001b[0m\u001b[0;34m)\u001b[0m\u001b[0;34m\u001b[0m\u001b[0;34m\u001b[0m\u001b[0m\n\u001b[0m\u001b[1;32m      4\u001b[0m \u001b[0mopen_cv_image\u001b[0m \u001b[0;34m=\u001b[0m \u001b[0mopen_cv_image\u001b[0m\u001b[0;34m.\u001b[0m\u001b[0mreshape\u001b[0m\u001b[0;34m(\u001b[0m\u001b[0;34m(\u001b[0m\u001b[0;36m1\u001b[0m\u001b[0;34m,\u001b[0m \u001b[0mopen_cv_image\u001b[0m\u001b[0;34m.\u001b[0m\u001b[0mshape\u001b[0m\u001b[0;34m[\u001b[0m\u001b[0;36m0\u001b[0m\u001b[0;34m]\u001b[0m\u001b[0;34m,\u001b[0m \u001b[0mopen_cv_image\u001b[0m\u001b[0;34m.\u001b[0m\u001b[0mshape\u001b[0m\u001b[0;34m[\u001b[0m\u001b[0;36m1\u001b[0m\u001b[0;34m]\u001b[0m\u001b[0;34m,\u001b[0m \u001b[0;36m1\u001b[0m\u001b[0;34m)\u001b[0m\u001b[0;34m)\u001b[0m\u001b[0;34m\u001b[0m\u001b[0;34m\u001b[0m\u001b[0m\n",
      "\u001b[0;32m<ipython-input-99-1cdb23bc67bb>\u001b[0m in \u001b[0;36mpadImageToSize\u001b[0;34m(oldImg, newHeight, newWidth, fillVal, isGrayscale)\u001b[0m\n\u001b[1;32m     42\u001b[0m     \u001b[0myCenter\u001b[0m \u001b[0;34m=\u001b[0m \u001b[0;34m(\u001b[0m\u001b[0mnewHeight\u001b[0m \u001b[0;34m-\u001b[0m \u001b[0moldHeight\u001b[0m\u001b[0;34m)\u001b[0m \u001b[0;34m//\u001b[0m \u001b[0;36m2\u001b[0m\u001b[0;34m\u001b[0m\u001b[0;34m\u001b[0m\u001b[0m\n\u001b[1;32m     43\u001b[0m \u001b[0;34m\u001b[0m\u001b[0m\n\u001b[0;32m---> 44\u001b[0;31m     \u001b[0mresult\u001b[0m\u001b[0;34m[\u001b[0m\u001b[0myCenter\u001b[0m\u001b[0;34m:\u001b[0m \u001b[0myCenter\u001b[0m \u001b[0;34m+\u001b[0m \u001b[0moldHeight\u001b[0m\u001b[0;34m,\u001b[0m \u001b[0mxCenter\u001b[0m\u001b[0;34m:\u001b[0m\u001b[0mxCenter\u001b[0m \u001b[0;34m+\u001b[0m \u001b[0moldWidth\u001b[0m\u001b[0;34m]\u001b[0m \u001b[0;34m=\u001b[0m \u001b[0moldImg\u001b[0m\u001b[0;34m\u001b[0m\u001b[0;34m\u001b[0m\u001b[0m\n\u001b[0m\u001b[1;32m     45\u001b[0m \u001b[0;34m\u001b[0m\u001b[0m\n\u001b[1;32m     46\u001b[0m     \u001b[0;32mreturn\u001b[0m \u001b[0mresult\u001b[0m\u001b[0;34m\u001b[0m\u001b[0;34m\u001b[0m\u001b[0m\n",
      "\u001b[0;31mValueError\u001b[0m: could not broadcast input array from shape (171,205) into shape (171,17)"
     ]
    }
   ],
   "source": [
    "open_cv_image = np.array(image) "
   ]
  },
  {
   "cell_type": "code",
   "execution_count": 101,
   "id": "2aad4db9-64b8-4177-ba62-ee7ff5936930",
   "metadata": {},
   "outputs": [],
   "source": [
    "open_cv_image = image_resize(open_cv_image, height = 171)\n"
   ]
  },
  {
   "cell_type": "code",
   "execution_count": 104,
   "id": "0484cdb8-6646-40a9-a50e-826ba1b20727",
   "metadata": {},
   "outputs": [
    {
     "data": {
      "text/plain": [
       "(171, 205)"
      ]
     },
     "execution_count": 104,
     "metadata": {},
     "output_type": "execute_result"
    }
   ],
   "source": [
    "open_cv_image.shape"
   ]
  },
  {
   "cell_type": "code",
   "execution_count": 102,
   "id": "86e4a639-f674-47bb-9ffa-4ee3f3a81394",
   "metadata": {},
   "outputs": [
    {
     "ename": "ValueError",
     "evalue": "could not broadcast input array from shape (171,205) into shape (171,17)",
     "output_type": "error",
     "traceback": [
      "\u001b[0;31m---------------------------------------------------------------------------\u001b[0m",
      "\u001b[0;31mValueError\u001b[0m                                Traceback (most recent call last)",
      "\u001b[0;32m<ipython-input-102-754fc12f0c8c>\u001b[0m in \u001b[0;36m<module>\u001b[0;34m\u001b[0m\n\u001b[0;32m----> 1\u001b[0;31m \u001b[0mopen_cv_image\u001b[0m \u001b[0;34m=\u001b[0m \u001b[0mpadImageToSize\u001b[0m\u001b[0;34m(\u001b[0m\u001b[0mopen_cv_image\u001b[0m\u001b[0;34m,\u001b[0m \u001b[0;36m171\u001b[0m\u001b[0;34m,\u001b[0m \u001b[0;36m171\u001b[0m\u001b[0;34m,\u001b[0m \u001b[0mfillVal\u001b[0m\u001b[0;34m=\u001b[0m\u001b[0;36m0\u001b[0m\u001b[0;34m,\u001b[0m \u001b[0misGrayscale\u001b[0m\u001b[0;34m=\u001b[0m\u001b[0;32mTrue\u001b[0m\u001b[0;34m)\u001b[0m\u001b[0;34m\u001b[0m\u001b[0;34m\u001b[0m\u001b[0m\n\u001b[0m",
      "\u001b[0;32m<ipython-input-99-1cdb23bc67bb>\u001b[0m in \u001b[0;36mpadImageToSize\u001b[0;34m(oldImg, newHeight, newWidth, fillVal, isGrayscale)\u001b[0m\n\u001b[1;32m     42\u001b[0m     \u001b[0myCenter\u001b[0m \u001b[0;34m=\u001b[0m \u001b[0;34m(\u001b[0m\u001b[0mnewHeight\u001b[0m \u001b[0;34m-\u001b[0m \u001b[0moldHeight\u001b[0m\u001b[0;34m)\u001b[0m \u001b[0;34m//\u001b[0m \u001b[0;36m2\u001b[0m\u001b[0;34m\u001b[0m\u001b[0;34m\u001b[0m\u001b[0m\n\u001b[1;32m     43\u001b[0m \u001b[0;34m\u001b[0m\u001b[0m\n\u001b[0;32m---> 44\u001b[0;31m     \u001b[0mresult\u001b[0m\u001b[0;34m[\u001b[0m\u001b[0myCenter\u001b[0m\u001b[0;34m:\u001b[0m \u001b[0myCenter\u001b[0m \u001b[0;34m+\u001b[0m \u001b[0moldHeight\u001b[0m\u001b[0;34m,\u001b[0m \u001b[0mxCenter\u001b[0m\u001b[0;34m:\u001b[0m\u001b[0mxCenter\u001b[0m \u001b[0;34m+\u001b[0m \u001b[0moldWidth\u001b[0m\u001b[0;34m]\u001b[0m \u001b[0;34m=\u001b[0m \u001b[0moldImg\u001b[0m\u001b[0;34m\u001b[0m\u001b[0;34m\u001b[0m\u001b[0m\n\u001b[0m\u001b[1;32m     45\u001b[0m \u001b[0;34m\u001b[0m\u001b[0m\n\u001b[1;32m     46\u001b[0m     \u001b[0;32mreturn\u001b[0m \u001b[0mresult\u001b[0m\u001b[0;34m\u001b[0m\u001b[0;34m\u001b[0m\u001b[0m\n",
      "\u001b[0;31mValueError\u001b[0m: could not broadcast input array from shape (171,205) into shape (171,17)"
     ]
    }
   ],
   "source": [
    "open_cv_image = padImageToSize(open_cv_image, 171, 171, fillVal=0, isGrayscale=True)\n"
   ]
  },
  {
   "cell_type": "code",
   "execution_count": null,
   "id": "5e19c2ef-c651-4322-b01f-d3f4262b4132",
   "metadata": {},
   "outputs": [],
   "source": [
    "\n",
    "open_cv_image = open_cv_image.reshape((1, open_cv_image.shape[0], open_cv_image.shape[1], 1))\n"
   ]
  },
  {
   "cell_type": "code",
   "execution_count": 74,
   "id": "e106a815-ea16-4abc-aa8f-654ca5cf3715",
   "metadata": {},
   "outputs": [],
   "source": [
    "classes = ['A', 'B', 'E', 'G', 'H', 'I', 'L', 'P', 'R', 'V', 'W']"
   ]
  },
  {
   "cell_type": "code",
   "execution_count": 88,
   "id": "00cf4643-de30-4221-823b-b9d4d2639c01",
   "metadata": {},
   "outputs": [
    {
     "data": {
      "text/plain": [
       "array([-15011.153 ,  -2079.3015, -13877.45  ,  -4527.958 , -14725.529 ,\n",
       "        -6111.032 , -12415.497 , -11888.466 , -12277.454 ,  -6464.8623,\n",
       "         3575.6426], dtype=float32)"
      ]
     },
     "execution_count": 88,
     "metadata": {},
     "output_type": "execute_result"
    }
   ],
   "source": [
    "model.predict(open_cv_image)[0]"
   ]
  },
  {
   "cell_type": "code",
   "execution_count": 85,
   "id": "32510bc0-c854-443d-a72a-7b0605597e67",
   "metadata": {},
   "outputs": [
    {
     "data": {
      "text/plain": [
       "'W'"
      ]
     },
     "execution_count": 85,
     "metadata": {},
     "output_type": "execute_result"
    }
   ],
   "source": [
    "predIndex = np.argmax(model.predict(open_cv_image)[0])\n",
    "classes[predIndex]"
   ]
  }
 ],
 "metadata": {
  "kernelspec": {
   "display_name": "Python 3",
   "language": "python",
   "name": "python3"
  },
  "language_info": {
   "codemirror_mode": {
    "name": "ipython",
    "version": 3
   },
   "file_extension": ".py",
   "mimetype": "text/x-python",
   "name": "python",
   "nbconvert_exporter": "python",
   "pygments_lexer": "ipython3",
   "version": "3.8.10"
  }
 },
 "nbformat": 4,
 "nbformat_minor": 5
}
