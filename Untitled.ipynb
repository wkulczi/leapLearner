{
 "cells": [
  {
   "cell_type": "code",
   "execution_count": 45,
   "metadata": {},
   "outputs": [],
   "source": [
    "filePaths = []\n",
    "for dirname, dirs, files in os.walk(datapath):\n",
    "    for filename in files:\n",
    "        filePaths.append(dirname[-1] +\"/\"+ filename)\n",
    "\n",
    "allLetters = list(sorted(set([x[:2][0] for x in filePaths if x[:2][0].isalpha()])))"
   ]
  },
  {
   "cell_type": "code",
   "execution_count": 46,
   "metadata": {},
   "outputs": [],
   "source": [
    "randomSelect = random.sample(filePaths, math.floor(len(filePaths)*0.2))"
   ]
  },
  {
   "cell_type": "code",
   "execution_count": 48,
   "metadata": {},
   "outputs": [],
   "source": [
    "for selectedFile in randomSelect:\n",
    "    shutil.move(datapath+selectedFile, \"test/\"+selectedFile[2:])"
   ]
  },
  {
   "cell_type": "code",
   "execution_count": 68,
   "metadata": {},
   "outputs": [],
   "source": [
    "fileNames = [file for file in os.listdir(\"test\") if file.split(\".\")[1] == 'jpeg']"
   ]
  },
  {
   "cell_type": "code",
   "execution_count": 81,
   "metadata": {},
   "outputs": [],
   "source": [
    "allLetters = list(sorted(set([x[:2][0] for x in filePaths if x[:2][0].isalpha()])))"
   ]
  },
  {
   "cell_type": "code",
   "execution_count": 71,
   "metadata": {},
   "outputs": [],
   "source": [
    "fileNamesYs = [allLetters.index(x[0]) for x in fileNames]"
   ]
  },
  {
   "cell_type": "code",
   "execution_count": 87,
   "metadata": {},
   "outputs": [
    {
     "data": {
      "text/plain": [
       "['A', 'B', 'E', 'G', 'H', 'I', 'L', 'P', 'R', 'V', 'W']"
      ]
     },
     "execution_count": 87,
     "metadata": {},
     "output_type": "execute_result"
    }
   ],
   "source": [
    "allLetters"
   ]
  },
  {
   "cell_type": "code",
   "execution_count": null,
   "metadata": {},
   "outputs": [],
   "source": []
  },
  {
   "cell_type": "code",
   "execution_count": 74,
   "metadata": {},
   "outputs": [],
   "source": [
    "#move files back\n",
    "\n",
    "for selectedFile in randomSelect:\n",
    "    shutil.move(\"test/\"+selectedFile[2:], datapath+selectedFile)"
   ]
  }
 ],
 "metadata": {
  "kernelspec": {
   "display_name": "Python 3",
   "language": "python",
   "name": "python3"
  },
  "language_info": {
   "codemirror_mode": {
    "name": "ipython",
    "version": 3
   },
   "file_extension": ".py",
   "mimetype": "text/x-python",
   "name": "python",
   "nbconvert_exporter": "python",
   "pygments_lexer": "ipython3",
   "version": "3.8.10"
  }
 },
 "nbformat": 4,
 "nbformat_minor": 4
}
